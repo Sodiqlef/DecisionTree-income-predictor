{
 "cells": [
  {
   "cell_type": "markdown",
   "id": "41cdab34",
   "metadata": {},
   "source": [
    "# Imports\n"
   ]
  },
  {
   "cell_type": "code",
   "execution_count": 17,
   "id": "a1e8b1ed",
   "metadata": {},
   "outputs": [],
   "source": [
    "import warnings\n",
    "import numpy as np\n",
    "import seaborn as sns\n",
    "\n",
    "from matplotlib import pyplot as plt\n",
    "from sklearn.model_selection import train_test_split\n",
    "from sklearn.metrics import accuracy_score"
   ]
  },
  {
   "cell_type": "code",
   "execution_count": 2,
   "id": "69e65493",
   "metadata": {},
   "outputs": [],
   "source": [
    "warnings.simplefilter(action=\"ignore\")"
   ]
  },
  {
   "cell_type": "code",
   "execution_count": 3,
   "id": "9b29785f",
   "metadata": {},
   "outputs": [],
   "source": [
    "from ucimlrepo import fetch_ucirepo \n",
    "  \n",
    "# fetch dataset \n",
    "adult = fetch_ucirepo(id=2) \n",
    "  "
   ]
  },
  {
   "cell_type": "markdown",
   "id": "77305b83",
   "metadata": {},
   "source": [
    "# wrangle function\n"
   ]
  },
  {
   "cell_type": "code",
   "execution_count": 6,
   "id": "d819f57d",
   "metadata": {},
   "outputs": [],
   "source": [
    "def wrangle(source):\n",
    "    df = source\n",
    "    \n",
    "    # drop duplicates\n",
    "    df.drop_duplicates(inplace=True)\n",
    "    \n",
    "    # drop all field with \"?\" to nan\n",
    "    df.replace(\"?\", np.nan, inplace=True)\n",
    "    \n",
    "    #Drop all rows with null values\n",
    "    df.dropna(inplace=True)\n",
    "    \n",
    "    #Drop all columns not needed for analysis\n",
    "    df.drop(columns=[\"fnlwgt\", \"education-num\", \"capital-gain\", \"capital-loss\"], inplace=True)\n",
    "    \n",
    "    # limit age to 80 years\n",
    "    df = df[df[\"age\"] <= 80]\n",
    "    \n",
    "    # standardize the target column\n",
    "    df[\"income\"] = df[\"income\"].str.replace(\".\",\"\", regex=False)\n",
    "    \n",
    "    # turn target column to binary column\n",
    "    income_map = {\"<=50K\":1, \">50K\":0}\n",
    "    df[\"income\"] = df[\"income\"].map(income_map)\n",
    "    \n",
    "    return df"
   ]
  },
  {
   "cell_type": "code",
   "execution_count": 7,
   "id": "a53714e1",
   "metadata": {},
   "outputs": [],
   "source": [
    "df = wrangle(adult.data.original)"
   ]
  },
  {
   "cell_type": "code",
   "execution_count": 8,
   "id": "a07ddec0",
   "metadata": {},
   "outputs": [
    {
     "data": {
      "text/html": [
       "<div>\n",
       "<style scoped>\n",
       "    .dataframe tbody tr th:only-of-type {\n",
       "        vertical-align: middle;\n",
       "    }\n",
       "\n",
       "    .dataframe tbody tr th {\n",
       "        vertical-align: top;\n",
       "    }\n",
       "\n",
       "    .dataframe thead th {\n",
       "        text-align: right;\n",
       "    }\n",
       "</style>\n",
       "<table border=\"1\" class=\"dataframe\">\n",
       "  <thead>\n",
       "    <tr style=\"text-align: right;\">\n",
       "      <th></th>\n",
       "      <th>age</th>\n",
       "      <th>workclass</th>\n",
       "      <th>education</th>\n",
       "      <th>marital-status</th>\n",
       "      <th>occupation</th>\n",
       "      <th>relationship</th>\n",
       "      <th>race</th>\n",
       "      <th>sex</th>\n",
       "      <th>hours-per-week</th>\n",
       "      <th>native-country</th>\n",
       "      <th>income</th>\n",
       "    </tr>\n",
       "  </thead>\n",
       "  <tbody>\n",
       "    <tr>\n",
       "      <th>0</th>\n",
       "      <td>39</td>\n",
       "      <td>State-gov</td>\n",
       "      <td>Bachelors</td>\n",
       "      <td>Never-married</td>\n",
       "      <td>Adm-clerical</td>\n",
       "      <td>Not-in-family</td>\n",
       "      <td>White</td>\n",
       "      <td>Male</td>\n",
       "      <td>40</td>\n",
       "      <td>United-States</td>\n",
       "      <td>1</td>\n",
       "    </tr>\n",
       "    <tr>\n",
       "      <th>1</th>\n",
       "      <td>50</td>\n",
       "      <td>Self-emp-not-inc</td>\n",
       "      <td>Bachelors</td>\n",
       "      <td>Married-civ-spouse</td>\n",
       "      <td>Exec-managerial</td>\n",
       "      <td>Husband</td>\n",
       "      <td>White</td>\n",
       "      <td>Male</td>\n",
       "      <td>13</td>\n",
       "      <td>United-States</td>\n",
       "      <td>1</td>\n",
       "    </tr>\n",
       "    <tr>\n",
       "      <th>2</th>\n",
       "      <td>38</td>\n",
       "      <td>Private</td>\n",
       "      <td>HS-grad</td>\n",
       "      <td>Divorced</td>\n",
       "      <td>Handlers-cleaners</td>\n",
       "      <td>Not-in-family</td>\n",
       "      <td>White</td>\n",
       "      <td>Male</td>\n",
       "      <td>40</td>\n",
       "      <td>United-States</td>\n",
       "      <td>1</td>\n",
       "    </tr>\n",
       "    <tr>\n",
       "      <th>3</th>\n",
       "      <td>53</td>\n",
       "      <td>Private</td>\n",
       "      <td>11th</td>\n",
       "      <td>Married-civ-spouse</td>\n",
       "      <td>Handlers-cleaners</td>\n",
       "      <td>Husband</td>\n",
       "      <td>Black</td>\n",
       "      <td>Male</td>\n",
       "      <td>40</td>\n",
       "      <td>United-States</td>\n",
       "      <td>1</td>\n",
       "    </tr>\n",
       "    <tr>\n",
       "      <th>4</th>\n",
       "      <td>28</td>\n",
       "      <td>Private</td>\n",
       "      <td>Bachelors</td>\n",
       "      <td>Married-civ-spouse</td>\n",
       "      <td>Prof-specialty</td>\n",
       "      <td>Wife</td>\n",
       "      <td>Black</td>\n",
       "      <td>Female</td>\n",
       "      <td>40</td>\n",
       "      <td>Cuba</td>\n",
       "      <td>1</td>\n",
       "    </tr>\n",
       "  </tbody>\n",
       "</table>\n",
       "</div>"
      ],
      "text/plain": [
       "   age         workclass  education      marital-status         occupation  \\\n",
       "0   39         State-gov  Bachelors       Never-married       Adm-clerical   \n",
       "1   50  Self-emp-not-inc  Bachelors  Married-civ-spouse    Exec-managerial   \n",
       "2   38           Private    HS-grad            Divorced  Handlers-cleaners   \n",
       "3   53           Private       11th  Married-civ-spouse  Handlers-cleaners   \n",
       "4   28           Private  Bachelors  Married-civ-spouse     Prof-specialty   \n",
       "\n",
       "    relationship   race     sex  hours-per-week native-country  income  \n",
       "0  Not-in-family  White    Male              40  United-States       1  \n",
       "1        Husband  White    Male              13  United-States       1  \n",
       "2  Not-in-family  White    Male              40  United-States       1  \n",
       "3        Husband  Black    Male              40  United-States       1  \n",
       "4           Wife  Black  Female              40           Cuba       1  "
      ]
     },
     "execution_count": 8,
     "metadata": {},
     "output_type": "execute_result"
    }
   ],
   "source": [
    "df.head()"
   ]
  },
  {
   "cell_type": "markdown",
   "id": "c8e09529",
   "metadata": {},
   "source": [
    "#  Split\n"
   ]
  },
  {
   "cell_type": "code",
   "execution_count": 10,
   "id": "46e7eacc",
   "metadata": {},
   "outputs": [],
   "source": [
    "#split target and features \n",
    "target = \"income\"\n",
    "\n",
    "X = df.drop(columns=target)\n",
    "y = df[target]"
   ]
  },
  {
   "cell_type": "code",
   "execution_count": 12,
   "id": "fcc0fff4",
   "metadata": {},
   "outputs": [],
   "source": [
    "# Split train and test set\n",
    "X_train,X_test,y_train,y_test = train_test_split(X,y, test_size=0.2, random_state=42)"
   ]
  },
  {
   "cell_type": "code",
   "execution_count": 14,
   "id": "7f784a34",
   "metadata": {},
   "outputs": [],
   "source": [
    "# Split train and val set\n",
    "X_train,X_val,y_train,y_val = train_test_split(X_train ,y_train , test_size=0.2, random_state=42)"
   ]
  },
  {
   "cell_type": "code",
   "execution_count": 16,
   "id": "78c51f7d",
   "metadata": {},
   "outputs": [
    {
     "name": "stdout",
     "output_type": "stream",
     "text": [
      "\n",
      "X_train: (28851, 10), y_train: (28851,)\n",
      "X_test: (9017, 10), y_test: (9017,)\n",
      "X_val: (7213, 10), y_val: (7213,)\n",
      "\n"
     ]
    }
   ],
   "source": [
    "print(f\"\"\"\n",
    "X_train: {X_train.shape}, y_train: {y_train.shape}\n",
    "X_test: {X_test.shape}, y_test: {y_test.shape}\n",
    "X_val: {X_val.shape}, y_val: {y_val.shape}\n",
    "\"\"\")"
   ]
  },
  {
   "cell_type": "markdown",
   "id": "114db276",
   "metadata": {},
   "source": [
    "# Baseline"
   ]
  },
  {
   "cell_type": "code",
   "execution_count": 22,
   "id": "37f9003f",
   "metadata": {},
   "outputs": [],
   "source": [
    "#calculate y_train value counts\n",
    "baseline_acc = y_train.value_counts(normalize = True).max()\n",
    "baseline_acc"
   ]
  },
  {
   "cell_type": "code",
   "execution_count": null,
   "id": "efebe1b0",
   "metadata": {},
   "outputs": [],
   "source": []
  }
 ],
 "metadata": {
  "kernelspec": {
   "display_name": "Python 3",
   "language": "python",
   "name": "python3"
  },
  "language_info": {
   "codemirror_mode": {
    "name": "ipython",
    "version": 3
   },
   "file_extension": ".py",
   "mimetype": "text/x-python",
   "name": "python",
   "nbconvert_exporter": "python",
   "pygments_lexer": "ipython3",
   "version": "3.8.8"
  }
 },
 "nbformat": 4,
 "nbformat_minor": 5
}
