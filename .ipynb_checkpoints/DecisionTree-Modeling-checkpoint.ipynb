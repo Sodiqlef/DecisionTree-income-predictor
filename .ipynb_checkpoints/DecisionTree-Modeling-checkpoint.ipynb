{
 "cells": [
  {
   "cell_type": "markdown",
   "id": "d50bd137",
   "metadata": {},
   "source": [
    "# Imports\n"
   ]
  },
  {
   "cell_type": "code",
   "execution_count": 29,
   "id": "3c9c3729",
   "metadata": {},
   "outputs": [],
   "source": [
    "import warnings\n",
    "import numpy as np\n",
    "import seaborn as sns\n",
    "\n",
    "from matplotlib import pyplot as plt\n",
    "from sklearn.model_selection import train_test_split\n",
    "from sklearn.metrics import accuracy_score\n",
    "from sklearn.tree import DecisionTreeClassifier\n",
    "from sklearn.pipeline import make_pipeline\n",
    "from category_encoders import OrdinalEncoder"
   ]
  },
  {
   "cell_type": "code",
   "execution_count": 2,
   "id": "5aa7c240",
   "metadata": {},
   "outputs": [],
   "source": [
    "warnings.simplefilter(action=\"ignore\")"
   ]
  },
  {
   "cell_type": "code",
   "execution_count": 3,
   "id": "301c50e0",
   "metadata": {},
   "outputs": [],
   "source": [
    "from ucimlrepo import fetch_ucirepo \n",
    "  \n",
    "# fetch dataset \n",
    "adult = fetch_ucirepo(id=2) \n",
    "  "
   ]
  },
  {
   "cell_type": "markdown",
   "id": "ebf8e43b",
   "metadata": {},
   "source": [
    "# wrangle function\n"
   ]
  },
  {
   "cell_type": "code",
   "execution_count": 6,
   "id": "769676bb",
   "metadata": {},
   "outputs": [],
   "source": [
    "def wrangle(source):\n",
    "    df = source\n",
    "    \n",
    "    # drop duplicates\n",
    "    df.drop_duplicates(inplace=True)\n",
    "    \n",
    "    # drop all field with \"?\" to nan\n",
    "    df.replace(\"?\", np.nan, inplace=True)\n",
    "    \n",
    "    #Drop all rows with null values\n",
    "    df.dropna(inplace=True)\n",
    "    \n",
    "    #Drop all columns not needed for analysis\n",
    "    df.drop(columns=[\"fnlwgt\", \"education-num\", \"capital-gain\", \"capital-loss\"], inplace=True)\n",
    "    \n",
    "    # limit age to 80 years\n",
    "    df = df[df[\"age\"] <= 80]\n",
    "    \n",
    "    # standardize the target column\n",
    "    df[\"income\"] = df[\"income\"].str.replace(\".\",\"\", regex=False)\n",
    "    \n",
    "    # turn target column to binary column\n",
    "    income_map = {\"<=50K\":1, \">50K\":0}\n",
    "    df[\"income\"] = df[\"income\"].map(income_map)\n",
    "    \n",
    "    return df"
   ]
  },
  {
   "cell_type": "code",
   "execution_count": 7,
   "id": "f56d9d1d",
   "metadata": {},
   "outputs": [],
   "source": [
    "# create dataframe\n",
    "df = wrangle(adult.data.original)"
   ]
  },
  {
   "cell_type": "code",
   "execution_count": 8,
   "id": "cca28027",
   "metadata": {},
   "outputs": [
    {
     "data": {
      "text/html": [
       "<div>\n",
       "<style scoped>\n",
       "    .dataframe tbody tr th:only-of-type {\n",
       "        vertical-align: middle;\n",
       "    }\n",
       "\n",
       "    .dataframe tbody tr th {\n",
       "        vertical-align: top;\n",
       "    }\n",
       "\n",
       "    .dataframe thead th {\n",
       "        text-align: right;\n",
       "    }\n",
       "</style>\n",
       "<table border=\"1\" class=\"dataframe\">\n",
       "  <thead>\n",
       "    <tr style=\"text-align: right;\">\n",
       "      <th></th>\n",
       "      <th>age</th>\n",
       "      <th>workclass</th>\n",
       "      <th>education</th>\n",
       "      <th>marital-status</th>\n",
       "      <th>occupation</th>\n",
       "      <th>relationship</th>\n",
       "      <th>race</th>\n",
       "      <th>sex</th>\n",
       "      <th>hours-per-week</th>\n",
       "      <th>native-country</th>\n",
       "      <th>income</th>\n",
       "    </tr>\n",
       "  </thead>\n",
       "  <tbody>\n",
       "    <tr>\n",
       "      <th>0</th>\n",
       "      <td>39</td>\n",
       "      <td>State-gov</td>\n",
       "      <td>Bachelors</td>\n",
       "      <td>Never-married</td>\n",
       "      <td>Adm-clerical</td>\n",
       "      <td>Not-in-family</td>\n",
       "      <td>White</td>\n",
       "      <td>Male</td>\n",
       "      <td>40</td>\n",
       "      <td>United-States</td>\n",
       "      <td>1</td>\n",
       "    </tr>\n",
       "    <tr>\n",
       "      <th>1</th>\n",
       "      <td>50</td>\n",
       "      <td>Self-emp-not-inc</td>\n",
       "      <td>Bachelors</td>\n",
       "      <td>Married-civ-spouse</td>\n",
       "      <td>Exec-managerial</td>\n",
       "      <td>Husband</td>\n",
       "      <td>White</td>\n",
       "      <td>Male</td>\n",
       "      <td>13</td>\n",
       "      <td>United-States</td>\n",
       "      <td>1</td>\n",
       "    </tr>\n",
       "    <tr>\n",
       "      <th>2</th>\n",
       "      <td>38</td>\n",
       "      <td>Private</td>\n",
       "      <td>HS-grad</td>\n",
       "      <td>Divorced</td>\n",
       "      <td>Handlers-cleaners</td>\n",
       "      <td>Not-in-family</td>\n",
       "      <td>White</td>\n",
       "      <td>Male</td>\n",
       "      <td>40</td>\n",
       "      <td>United-States</td>\n",
       "      <td>1</td>\n",
       "    </tr>\n",
       "    <tr>\n",
       "      <th>3</th>\n",
       "      <td>53</td>\n",
       "      <td>Private</td>\n",
       "      <td>11th</td>\n",
       "      <td>Married-civ-spouse</td>\n",
       "      <td>Handlers-cleaners</td>\n",
       "      <td>Husband</td>\n",
       "      <td>Black</td>\n",
       "      <td>Male</td>\n",
       "      <td>40</td>\n",
       "      <td>United-States</td>\n",
       "      <td>1</td>\n",
       "    </tr>\n",
       "    <tr>\n",
       "      <th>4</th>\n",
       "      <td>28</td>\n",
       "      <td>Private</td>\n",
       "      <td>Bachelors</td>\n",
       "      <td>Married-civ-spouse</td>\n",
       "      <td>Prof-specialty</td>\n",
       "      <td>Wife</td>\n",
       "      <td>Black</td>\n",
       "      <td>Female</td>\n",
       "      <td>40</td>\n",
       "      <td>Cuba</td>\n",
       "      <td>1</td>\n",
       "    </tr>\n",
       "  </tbody>\n",
       "</table>\n",
       "</div>"
      ],
      "text/plain": [
       "   age         workclass  education      marital-status         occupation  \\\n",
       "0   39         State-gov  Bachelors       Never-married       Adm-clerical   \n",
       "1   50  Self-emp-not-inc  Bachelors  Married-civ-spouse    Exec-managerial   \n",
       "2   38           Private    HS-grad            Divorced  Handlers-cleaners   \n",
       "3   53           Private       11th  Married-civ-spouse  Handlers-cleaners   \n",
       "4   28           Private  Bachelors  Married-civ-spouse     Prof-specialty   \n",
       "\n",
       "    relationship   race     sex  hours-per-week native-country  income  \n",
       "0  Not-in-family  White    Male              40  United-States       1  \n",
       "1        Husband  White    Male              13  United-States       1  \n",
       "2  Not-in-family  White    Male              40  United-States       1  \n",
       "3        Husband  Black    Male              40  United-States       1  \n",
       "4           Wife  Black  Female              40           Cuba       1  "
      ]
     },
     "execution_count": 8,
     "metadata": {},
     "output_type": "execute_result"
    }
   ],
   "source": [
    "# Check first five values of data frame\n",
    "df.head()"
   ]
  },
  {
   "cell_type": "markdown",
   "id": "dc377576",
   "metadata": {},
   "source": [
    "#  Split\n"
   ]
  },
  {
   "cell_type": "code",
   "execution_count": 10,
   "id": "562ec9fc",
   "metadata": {},
   "outputs": [],
   "source": [
    "#split target and features \n",
    "target = \"income\"\n",
    "\n",
    "X = df.drop(columns=target)\n",
    "y = df[target]"
   ]
  },
  {
   "cell_type": "code",
   "execution_count": 12,
   "id": "1a727941",
   "metadata": {},
   "outputs": [],
   "source": [
    "# Split train and test set\n",
    "X_train,X_test,y_train,y_test = train_test_split(X,y, test_size=0.2, random_state=42)"
   ]
  },
  {
   "cell_type": "code",
   "execution_count": 14,
   "id": "ab21e5f6",
   "metadata": {},
   "outputs": [],
   "source": [
    "# Split train and val set\n",
    "X_train,X_val,y_train,y_val = train_test_split(X_train ,y_train , test_size=0.2, random_state=42)"
   ]
  },
  {
   "cell_type": "code",
   "execution_count": 16,
   "id": "3a23e786",
   "metadata": {},
   "outputs": [
    {
     "name": "stdout",
     "output_type": "stream",
     "text": [
      "\n",
      "X_train: (28851, 10), y_train: (28851,)\n",
      "X_test: (9017, 10), y_test: (9017,)\n",
      "X_val: (7213, 10), y_val: (7213,)\n",
      "\n"
     ]
    }
   ],
   "source": [
    "print(f\"\"\"\n",
    "X_train: {X_train.shape}, y_train: {y_train.shape}\n",
    "X_test: {X_test.shape}, y_test: {y_test.shape}\n",
    "X_val: {X_val.shape}, y_val: {y_val.shape}\n",
    "\"\"\")"
   ]
  },
  {
   "cell_type": "markdown",
   "id": "24d57ddd",
   "metadata": {},
   "source": [
    "# Baseline"
   ]
  },
  {
   "cell_type": "code",
   "execution_count": 23,
   "id": "cbbc2a07",
   "metadata": {},
   "outputs": [
    {
     "data": {
      "text/plain": [
       "0.7522442896260095"
      ]
     },
     "execution_count": 23,
     "metadata": {},
     "output_type": "execute_result"
    }
   ],
   "source": [
    "#calculate y_train value counts\n",
    "baseline_acc = y_train.value_counts(normalize = True).max()\n",
    "baseline_acc"
   ]
  },
  {
   "cell_type": "markdown",
   "id": "ef058d23",
   "metadata": {},
   "source": [
    "# Train"
   ]
  },
  {
   "cell_type": "code",
   "execution_count": 31,
   "id": "7303d134",
   "metadata": {},
   "outputs": [
    {
     "data": {
      "text/plain": [
       "Pipeline(steps=[('ordinalencoder',\n",
       "                 OrdinalEncoder(cols=['workclass', 'education',\n",
       "                                      'marital-status', 'occupation',\n",
       "                                      'relationship', 'race', 'sex',\n",
       "                                      'native-country'],\n",
       "                                mapping=[{'col': 'workclass',\n",
       "                                          'data_type': dtype('O'),\n",
       "                                          'mapping': Private             1\n",
       "Local-gov           2\n",
       "Self-emp-inc        3\n",
       "Self-emp-not-inc    4\n",
       "Federal-gov         5\n",
       "State-gov           6\n",
       "Without-pay         7\n",
       "NaN                -2\n",
       "dtype: int64},\n",
       "                                         {'col': 'education',\n",
       "                                          'data_type': dty...\n",
       "Trinadad&Tobago               16\n",
       "Puerto-Rico                   17\n",
       "El-Salvador                   18\n",
       "Greece                        19\n",
       "Germany                       20\n",
       "Portugal                      21\n",
       "China                         22\n",
       "Outlying-US(Guam-USVI-etc)    23\n",
       "South                         24\n",
       "England                       25\n",
       "Hong                          26\n",
       "France                        27\n",
       "Poland                        28\n",
       "Dominican-Republic            29\n",
       "Thailand                      30\n",
       "Haiti                         31\n",
       "Ecuador                       32\n",
       "Nicaragua                     33\n",
       "Peru                          34\n",
       "Ireland                       35\n",
       "Scotland                      36\n",
       "Iran                          37\n",
       "Honduras                      38\n",
       "Yugoslavia                    39\n",
       "Hungary                       40\n",
       "NaN                           -2\n",
       "dtype: int64}])),\n",
       "                ('decisiontreeclassifier',\n",
       "                 DecisionTreeClassifier(random_state=42))])"
      ]
     },
     "execution_count": 31,
     "metadata": {},
     "output_type": "execute_result"
    }
   ],
   "source": [
    "model= make_pipeline(\n",
    "    OrdinalEncoder(),\n",
    "    DecisionTreeClassifier(random_state = 42)\n",
    ")\n",
    "model.fit(X_train, y_train)"
   ]
  },
  {
   "cell_type": "code",
   "execution_count": 37,
   "id": "95ea3865",
   "metadata": {},
   "outputs": [],
   "source": [
    "# Predict target using the train data\n",
    "y_train_pred = model.predict(X_train)"
   ]
  },
  {
   "cell_type": "code",
   "execution_count": 38,
   "id": "3ab15c5d",
   "metadata": {},
   "outputs": [
    {
     "data": {
      "text/plain": [
       "0.9667949117881529"
      ]
     },
     "execution_count": 38,
     "metadata": {},
     "output_type": "execute_result"
    }
   ],
   "source": [
    "accuracy_score(y_train, y_train_pred)"
   ]
  },
  {
   "cell_type": "code",
   "execution_count": 40,
   "id": "27b08499",
   "metadata": {},
   "outputs": [],
   "source": [
    "#predict X_val\n",
    "y_val_pred = model.predict(X_val)"
   ]
  },
  {
   "cell_type": "code",
   "execution_count": 41,
   "id": "006df8b5",
   "metadata": {},
   "outputs": [
    {
     "data": {
      "text/plain": [
       "0.775960072092056"
      ]
     },
     "execution_count": 41,
     "metadata": {},
     "output_type": "execute_result"
    }
   ],
   "source": [
    "accuracy_score(y_val, y_val_pred)"
   ]
  },
  {
   "cell_type": "markdown",
   "id": "d7c6cd29",
   "metadata": {},
   "source": [
    "### \"\"\"Since validation accuracy is just a little better than the baseline, the line of best fit should be found and there should be remodelling\"\"\" "
   ]
  },
  {
   "cell_type": "code",
   "execution_count": 58,
   "id": "51b932b8",
   "metadata": {},
   "outputs": [],
   "source": [
    "# get the depth of tree before training completed\n",
    "max_depth = model[\"decisiontreeclassifier\"].get_depth()"
   ]
  },
  {
   "cell_type": "code",
   "execution_count": 66,
   "id": "7fa1e3ac",
   "metadata": {},
   "outputs": [],
   "source": [
    "# initialise a list to store train and validation sets\n",
    "train_acc = []\n",
    "val_acc = []\n",
    "\n",
    "#loop through to find the perfect fit\n",
    "for d in range(1,max_depth):\n",
    "    # create and fit model\n",
    "    model= make_pipeline(OrdinalEncoder(), DecisionTreeClassifier(max_depth=d, random_state = 42))\n",
    "    model.fit(X_train, y_train)\n",
    "    \n",
    "    #predict the value for train and validation sets\n",
    "    pred_train = model.predict(X_train)\n",
    "    pred_val = model.predict(X_val)\n",
    "    \n",
    "    #append the accuracy scores to the initialised lists\n",
    "    train_acc.append(accuracy_score(y_train, pred_train))\n",
    "    val_acc.append(accuracy_score(y_val, pred_val))"
   ]
  },
  {
   "cell_type": "code",
   "execution_count": 65,
   "id": "703903a9",
   "metadata": {},
   "outputs": [
    {
     "data": {
      "text/plain": [
       "[<matplotlib.lines.Line2D at 0x1ba935d5d60>]"
      ]
     },
     "execution_count": 65,
     "metadata": {},
     "output_type": "execute_result"
    },
    {
     "data": {
      "image/png": "[encoded data removed]",
      "text/plain": [
       "<Figure size 432x288 with 1 Axes>"
      ]
     },
     "metadata": {
      "needs_background": "light"
     },
     "output_type": "display_data"
    }
   ],
   "source": [
    "plt.plot(train_acc)\n",
    "plt.plot(val_acc)"
   ]
  },
  {
   "cell_type": "code",
   "execution_count": null,
   "id": "be978a30",
   "metadata": {},
   "outputs": [],
   "source": []
  }
 ],
 "metadata": {
  "kernelspec": {
   "display_name": "Python 3",
   "language": "python",
   "name": "python3"
  },
  "language_info": {
   "codemirror_mode": {
    "name": "ipython",
    "version": 3
   },
   "file_extension": ".py",
   "mimetype": "text/x-python",
   "name": "python",
   "nbconvert_exporter": "python",
   "pygments_lexer": "ipython3",
   "version": "3.8.8"
  }
 },
 "nbformat": 4,
 "nbformat_minor": 5
}
